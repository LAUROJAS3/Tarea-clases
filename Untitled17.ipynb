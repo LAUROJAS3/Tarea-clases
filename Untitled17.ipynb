{
  "nbformat": 4,
  "nbformat_minor": 0,
  "metadata": {
    "colab": {
      "name": "Untitled17.ipynb",
      "provenance": [],
      "authorship_tag": "ABX9TyPaXqgyD1gVwcMdJpXBiRLr",
      "include_colab_link": true
    },
    "kernelspec": {
      "name": "python3",
      "display_name": "Python 3"
    },
    "language_info": {
      "name": "python"
    }
  },
  "cells": [
    {
      "cell_type": "markdown",
      "metadata": {
        "id": "view-in-github",
        "colab_type": "text"
      },
      "source": [
        "<a href=\"https://colab.research.google.com/github/LAUROJAS3/Tarea-clases/blob/main/Untitled17.ipynb\" target=\"_parent\"><img src=\"https://colab.research.google.com/assets/colab-badge.svg\" alt=\"Open In Colab\"/></a>"
      ]
    },
    {
      "cell_type": "code",
      "metadata": {
        "colab": {
          "base_uri": "https://localhost:8080/"
        },
        "id": "hOrO0roWsntf",
        "outputId": "6f1efcf7-b4f5-4d67-b10a-e700ed4fb56c"
      },
      "source": [
        " #Creamos una clase\n",
        "class Gasolinera:\n",
        " \n",
        "#Creamos y llamamos a los metodos\n",
        "    def __init__(self, costo1=16.26):\n",
        "       self.costo1=costo1\n",
        "\n",
        "    def magna(self,l1):\n",
        "        return l1*self.costo1\n",
        "\n",
        "    def premium(self,l2=0):\n",
        "        return l2*18.14\n",
        "    \n",
        "    def diesel(self,l3=0):\n",
        "        return l3*17.00\n",
        "\n",
        "    def cigarros(self,p1=0):\n",
        "        return p1*5\n",
        "\n",
        "    def agua(self,p2=0):\n",
        "        return p2*10\n",
        "\n",
        "#Del bloque principial creamos un objeto de la clase Gasolinera 'gas'\n",
        "gas=Gasolinera()\n",
        " \n",
        "def menu():\n",
        "    opcion=0\n",
        "    while opcion!=5:   \n",
        "        print(\"Gasolinera los michis\")\n",
        "        print(\"1.Magna $16.26\")\n",
        "        print(\"2.Premium $18.14\")\n",
        "        print(\"3.Diesel $17.00\")\n",
        "        print(\"4.Otros servivios\")\n",
        "        print(\"5.Salir\")\n",
        "        opcion = int(input(\"Digite el numero de su preferencia: \"))\n",
        "#Utilizamos una forma simplificada de if anidados con la sentencia elif\n",
        "        if opcion==1:\n",
        "            print(\"Has elegido: Magna\")\n",
        "            l1=float(input(\"Cantidad de litros:\"))\n",
        "            print(\"El total es: \",gas.magna(l1),\"pesos\")  \n",
        "        elif opcion==2:\n",
        "            print(\"Has elegido: Premium\")\n",
        "            l2=float(input(\"Cantidad de litros:\"))\n",
        "            print(\"El total es: \",gas.premium(l2),\"pesos\")   \n",
        "        elif opcion==3:\n",
        "            print(\"Has elegido: Diesel\")\n",
        "            l3=float(input(\"Cantidad de litros:\"))\n",
        "            print(\"El total es: \",gas.diesel(l3),\"pesos\")\n",
        "#Para la opcion 4 tambien ocupamos la forma simplificada de if anidados para \n",
        "#mostrarle mas servicios al usuario\n",
        "        elif opcion==4:\n",
        "            print(\"1.Cigarrillos $5\")\n",
        "            print(\"2.Agua embotellada $10\")\n",
        "            op=int(input(\"Ingresa una opcion: \"))\n",
        "            if op == 1:\n",
        "              print(\"1.Malboro\")\n",
        "              print(\"2.Camel\")\n",
        "              print(\"3.Delicados\")\n",
        "              op1=int(input(\"Ingresa una opcion: \"))\n",
        "              if op1==1:\n",
        "                 print(\"Compra de cigarrillos Malboro\")\n",
        "                 p1=float(input(\"Cantidad de cigarrillos:\"))\n",
        "                 print(\"El total es: \",gas.cigarros(p1),\"pesos\")\n",
        "                 print(\"Usted ha salido de Otros servicios\")\n",
        "              elif op1==2:\n",
        "                 print(\"Compra de cigarrillos Camel\")\n",
        "                 p1=float(input(\"Cantidad de cigarrillos:\"))\n",
        "                 print(\"El total es: \",gas.cigarros(p1),\"pesos\")\n",
        "                 print(\"Usted ha salido de Otros servicios\")\n",
        "              elif op1==3:\n",
        "                 print(\"Compra de cigarrillos Delicados\")\n",
        "                 p1=float(input(\"Cantidad de cigarrillos:\"))\n",
        "                 print(\"El total es: \",gas.cigarros(p1),\"pesos\")\n",
        "                 print(\"Usted ha salido de Otros servicios\")\n",
        "            elif op ==2:\n",
        "               print(\"Compra de agua embotellada de 1 Lt\")\n",
        "               p2=float(input(\"Cantidad de agua:\"))\n",
        "               print(\"El total es: \",gas.agua(p2),\"pesos\")\n",
        "               print(\"Usted ha salido de Otros servicios\")\n",
        "\n",
        "        elif opcion==5:\n",
        "            print(\"Vuelva pronto\")\n",
        " \n",
        "menu()"
      ],
      "execution_count": null,
      "outputs": [
        {
          "output_type": "stream",
          "text": [
            "Gasolinera los michis\n",
            "1.Magna $16.26\n",
            "2.Premium $18.14\n",
            "3.Diesel $17.00\n",
            "4.Otros servivios\n",
            "5.Salir\n",
            "Digite el numero de su preferencia: 4\n",
            "1.Cigarrillos $5\n",
            "2.Agua embotellada $10\n",
            "Ingresa una opcion: 5\n",
            "Gasolinera los michis\n",
            "1.Magna $16.26\n",
            "2.Premium $18.14\n",
            "3.Diesel $17.00\n",
            "4.Otros servivios\n",
            "5.Salir\n"
          ],
          "name": "stdout"
        }
      ]
    },
    {
      "cell_type": "code",
      "metadata": {
        "id": "7_iJeQVoYVmh"
      },
      "source": [
        ""
      ],
      "execution_count": null,
      "outputs": []
    }
  ]
}