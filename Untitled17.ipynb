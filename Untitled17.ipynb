{
  "nbformat": 4,
  "nbformat_minor": 0,
  "metadata": {
    "colab": {
      "name": "Untitled17.ipynb",
      "provenance": [],
      "authorship_tag": "ABX9TyM70cWelFWMXz9Ws2ssVofk",
      "include_colab_link": true
    },
    "kernelspec": {
      "name": "python3",
      "display_name": "Python 3"
    },
    "language_info": {
      "name": "python"
    }
  },
  "cells": [
    {
      "cell_type": "markdown",
      "metadata": {
        "id": "view-in-github",
        "colab_type": "text"
      },
      "source": [
        "<a href=\"https://colab.research.google.com/github/LAUROJAS3/Tarea-clases/blob/main/Untitled17.ipynb\" target=\"_parent\"><img src=\"https://colab.research.google.com/assets/colab-badge.svg\" alt=\"Open In Colab\"/></a>"
      ]
    },
    {
      "cell_type": "code",
      "metadata": {
        "colab": {
          "base_uri": "https://localhost:8080/"
        },
        "id": "hOrO0roWsntf",
        "outputId": "25f517eb-2f8b-4ed4-aee1-84ba22df0f04"
      },
      "source": [
        " #Creamos una clase\n",
        "class Gasolinera:\n",
        " \n",
        "#Creamos y llamamos a los metodos\n",
        "    def __init__(self, costo1=16.26, costo2=18.14, costo3= 17.00):\n",
        "        self.costo1=costo1\n",
        "        self.costo2=costo2\n",
        "        self.costo3=costo3\n",
        "    def magna(self,lit1=0):\n",
        "        return lit1*self.costo1\n",
        "\n",
        "    def premium(self,lit2):\n",
        "        return lit2*self.costo2\n",
        "    \n",
        "    def diesel(self,lit3=0):\n",
        "        return lit3*self.costo3\n",
        " \n",
        "gas=Gasolinera()\n",
        " \n",
        "def menu():\n",
        "    opcion=0\n",
        "    while opcion!=4:    \n",
        "        print(\"1.Magna\")\n",
        "        print(\"2.Premium\")\n",
        "        print(\"3.Diesel\")\n",
        "        print(\"4.Salir\")\n",
        "        opcion = int(input(\"Ingrese su opcion: \"))\n",
        "#Utilizamos una forma simplificada de if anidados con la sentencia elif\n",
        "        if opcion==1:\n",
        "            print(\"Has elegido: Magna\")\n",
        "            l1=float(input(\"Cantidad de litros:\"))\n",
        "            print(\"El total es: \",gas.magna(l1),\"pesos\")  \n",
        "        elif opcion==2:\n",
        "            print(\"Has elegido: Premium\")\n",
        "            l2=float(input(\"Cantidad de litros:\"))\n",
        "            print(\"El total es: \",gas.premium(l2),\"pesos\")   \n",
        "        elif opcion==3:\n",
        "            print(\"Has elegido: Diesel\")\n",
        "            l3=float(input(\"Cantidad de litros:\"))\n",
        "            print(\"El total es: \",gas.diesel(l3),\"pesos\") \n",
        "        elif opcion==4:\n",
        "            print(\"Vuelva pronto\")\n",
        " \n",
        "menu()"
      ],
      "execution_count": 1,
      "outputs": [
        {
          "output_type": "stream",
          "text": [
            "1.Magna\n",
            "2.Premium\n",
            "3.Diesel\n",
            "4.Salir\n",
            "Ingrese su opcion: 1\n",
            "Has elegido: Magna\n",
            "Cantidad de litros:1\n",
            "El total es:  16.26 pesos\n",
            "1.Magna\n",
            "2.Premium\n",
            "3.Diesel\n",
            "4.Salir\n",
            "Ingrese su opcion: 2\n",
            "Has elegido: Premium\n",
            "Cantidad de litros:1\n",
            "El total es:  18.14 pesos\n",
            "1.Magna\n",
            "2.Premium\n",
            "3.Diesel\n",
            "4.Salir\n",
            "Ingrese su opcion: 3\n",
            "Has elegido: Diesel\n",
            "Cantidad de litros:1\n",
            "El total es:  17.0 pesos\n",
            "1.Magna\n",
            "2.Premium\n",
            "3.Diesel\n",
            "4.Salir\n",
            "Ingrese su opcion: 4\n",
            "Vuelva pronto\n"
          ],
          "name": "stdout"
        }
      ]
    }
  ]
}