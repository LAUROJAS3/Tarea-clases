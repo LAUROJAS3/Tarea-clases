{
  "nbformat": 4,
  "nbformat_minor": 0,
  "metadata": {
    "colab": {
      "name": "Untitled18.ipynb",
      "provenance": [],
      "authorship_tag": "ABX9TyO9PIq6YClwn6dewPNG86VK",
      "include_colab_link": true
    },
    "kernelspec": {
      "name": "python3",
      "display_name": "Python 3"
    },
    "language_info": {
      "name": "python"
    }
  },
  "cells": [
    {
      "cell_type": "markdown",
      "metadata": {
        "id": "view-in-github",
        "colab_type": "text"
      },
      "source": [
        "<a href=\"https://colab.research.google.com/github/LAUROJAS3/Tarea-clases/blob/main/EjFunciones.ipynb\" target=\"_parent\"><img src=\"https://colab.research.google.com/assets/colab-badge.svg\" alt=\"Open In Colab\"/></a>"
      ]
    },
    {
      "cell_type": "code",
      "metadata": {
        "colab": {
          "base_uri": "https://localhost:8080/"
        },
        "id": "P7i6T_AGsSBu",
        "outputId": "23009beb-2d72-4cf6-a615-8a4754acc6a6"
      },
      "source": [
        "class operaciones:\n",
        "   num1=2\n",
        "   num2=4\n",
        "   def suma(self):\n",
        "       return self.num1+self.num2\n",
        "   def resta(self):\n",
        "       return self.num1-self.num2\n",
        "   def multiplicacion(self):\n",
        "       return self.num1*self.num2\n",
        "   def division(self):\n",
        "       return self.num1/self.num2\n",
        "   \n",
        "      \n",
        "\n",
        "op=operaciones()\n",
        "print(op.suma())\n",
        "print(op.resta())\n",
        "print(op.multiplicacion())\n",
        "print(op.division())"
      ],
      "execution_count": 1,
      "outputs": [
        {
          "output_type": "stream",
          "text": [
            "6\n",
            "-2\n",
            "8\n",
            "0.5\n"
          ],
          "name": "stdout"
        }
      ]
    }
  ]
}