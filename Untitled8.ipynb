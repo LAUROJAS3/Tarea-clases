{
  "nbformat": 4,
  "nbformat_minor": 0,
  "metadata": {
    "colab": {
      "name": "Untitled8.ipynb",
      "provenance": [],
      "collapsed_sections": [],
      "authorship_tag": "ABX9TyPqOR2z8Ro27suRymh8uWEu",
      "include_colab_link": true
    },
    "kernelspec": {
      "name": "python3",
      "display_name": "Python 3"
    },
    "language_info": {
      "name": "python"
    }
  },
  "cells": [
    {
      "cell_type": "markdown",
      "metadata": {
        "id": "view-in-github",
        "colab_type": "text"
      },
      "source": [
        "<a href=\"https://colab.research.google.com/github/LAUROJAS3/Tarea-clases/blob/main/Untitled8.ipynb\" target=\"_parent\"><img src=\"https://colab.research.google.com/assets/colab-badge.svg\" alt=\"Open In Colab\"/></a>"
      ]
    },
    {
      "cell_type": "markdown",
      "metadata": {
        "id": "98w5yfy12bWw"
      },
      "source": [
        "#Ejemplo de una clase"
      ]
    },
    {
      "cell_type": "code",
      "metadata": {
        "colab": {
          "base_uri": "https://localhost:8080/"
        },
        "id": "4BvVyBrp2Uns",
        "outputId": "6291c230-01df-4306-d717-12ad0b80e401"
      },
      "source": [
        "class zapatos(): #Creamos la clase zapatos\n",
        "    def __init__(self, tipo, talla, precio): \n",
        "        self.tipo = tipo \n",
        "        self.talla = talla \n",
        "        self.precio = precio \n",
        "        \n",
        "        #Creación de un nuevo método\n",
        "    def informacion(self):\n",
        "        detalles = (\"El tipo de sandalia es {}, tiene una talla {} y un costo de {} pesos\")\n",
        "        print(detalles.format(self.tipo, self.talla, self.precio)) \n",
        "        \n",
        "    \n",
        "calzado1 = zapatos(\"casual\", 24, 100) #Instancia\n",
        "\n",
        "calzado1.informacion() "
      ],
      "execution_count": 2,
      "outputs": [
        {
          "output_type": "stream",
          "text": [
            "El tipo de sandalia es casual, tiene una talla 24 y un costo de 100 pesos\n"
          ],
          "name": "stdout"
        }
      ]
    }
  ]
}