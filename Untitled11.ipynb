{
  "nbformat": 4,
  "nbformat_minor": 0,
  "metadata": {
    "colab": {
      "name": "Untitled11.ipynb",
      "provenance": [],
      "authorship_tag": "ABX9TyMf3jrDeGnohp6Nm7OxzgEP",
      "include_colab_link": true
    },
    "kernelspec": {
      "name": "python3",
      "display_name": "Python 3"
    },
    "language_info": {
      "name": "python"
    }
  },
  "cells": [
    {
      "cell_type": "markdown",
      "metadata": {
        "id": "view-in-github",
        "colab_type": "text"
      },
      "source": [
        "<a href=\"https://colab.research.google.com/github/LAUROJAS3/Tarea-clases/blob/main/Untitled11.ipynb\" target=\"_parent\"><img src=\"https://colab.research.google.com/assets/colab-badge.svg\" alt=\"Open In Colab\"/></a>"
      ]
    },
    {
      "cell_type": "code",
      "metadata": {
        "colab": {
          "base_uri": "https://localhost:8080/"
        },
        "id": "cfViEqYWZsVl",
        "outputId": "3ec2eb87-de2b-46af-e70a-a21c09f5ea31"
      },
      "source": [
        "print(\"UACM\")\n",
        "print(\"Coordinación de ciencia y tecnologia\")\n",
        "print(\"Ingenieria en Software\")\n",
        "print(\"Programación orientada a objetos\")\n",
        "print(\"Gurpo 1102\") \n",
        "print(\"Prof. Mauricio Algalan Meneses\")\n",
        "print(\"Alumno: Laura Rojas Ciriaco\")"
      ],
      "execution_count": 1,
      "outputs": [
        {
          "output_type": "stream",
          "text": [
            "UACM\n",
            "Coordinación de ciencia y tecnologia\n",
            "Ingenieria en Software\n",
            "Programación orientada a objetos\n",
            "Gurpo 1102\n",
            "Prof. Mauricio Algalan Meneses\n",
            "Alumno: Laura Rojas Ciriaco\n"
          ],
          "name": "stdout"
        }
      ]
    }
  ]
}