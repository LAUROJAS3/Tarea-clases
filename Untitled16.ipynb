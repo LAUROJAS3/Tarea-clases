{
  "nbformat": 4,
  "nbformat_minor": 0,
  "metadata": {
    "colab": {
      "name": "Untitled16.ipynb",
      "provenance": [],
      "authorship_tag": "ABX9TyO29Zq0OCAiVsRQ4GABlwl6",
      "include_colab_link": true
    },
    "kernelspec": {
      "name": "python3",
      "display_name": "Python 3"
    },
    "language_info": {
      "name": "python"
    }
  },
  "cells": [
    {
      "cell_type": "markdown",
      "metadata": {
        "id": "view-in-github",
        "colab_type": "text"
      },
      "source": [
        "<a href=\"https://colab.research.google.com/github/LAUROJAS3/Tarea-clases/blob/main/Untitled16.ipynb\" target=\"_parent\"><img src=\"https://colab.research.google.com/assets/colab-badge.svg\" alt=\"Open In Colab\"/></a>"
      ]
    },
    {
      "cell_type": "code",
      "metadata": {
        "colab": {
          "base_uri": "https://localhost:8080/"
        },
        "id": "cZE-GKbcVxOq",
        "outputId": "d8446c41-0e33-4be1-c686-92c36480d960"
      },
      "source": [
        "class Gasolinera:\n",
        "\n",
        "    def __init__(self, costo1=16.26, costo2=18.14, costo3= 17.00):\n",
        "        self.costo1=costo1\n",
        "        self.costo2=costo2\n",
        "        self.costo3=costo3\n",
        "        print(\"Gasolineria Pemex\")\n",
        "        print(\"1.Magna\")\n",
        "        print(\"2.Premium\")\n",
        "        print(\"3.Diesel\")\n",
        "        self.tipo=input(\"Escribe el tipo de gasolina: \")\n",
        "        print(\"Solo digite los litros en la opcion correspondiente\")\n",
        "        self.l1=int(input(\"1.Magna cantidad de litros:\"))\n",
        "        self.l2=int(input(\"2.Premium cantidad de litros: \"))\n",
        "        self.l3=int(input(\"3.Diesel cantidad de litros: \"))\n",
        "        self.magna()\n",
        "        self.premium()\n",
        "        self.diesel()\n",
        "\n",
        "    def magna(self):\n",
        "        magna=self.l1*self.costo1\n",
        "        print(\"Su total es:\",magna)\n",
        "\n",
        "    def premium(self):\n",
        "        premium=self.l2*self.costo2\n",
        "        print(\"Su total es:\",premium)\n",
        "\n",
        "    def diesel(self):\n",
        "        diesel=self.l3*self.costo3\n",
        "        print(\"Su total es\",diesel)\n",
        "\n",
        "# bloque principal\n",
        "\n",
        "p=Gasolinera()"
      ],
      "execution_count": 6,
      "outputs": [
        {
          "output_type": "stream",
          "text": [
            "Gasolineria Pemex\n",
            "1.Magna\n",
            "2.Premium\n",
            "3.Diesel\n",
            "Escribe el tipo de gasolina: Premium\n",
            "Solo digite los litros en la opcion correspondiente\n",
            "1.Magna cantidad de litros:0\n",
            "2.Premium cantidad de litros: 2\n",
            "3.Diesel cantidad de litros: 0\n",
            "Su total es: 0.0\n",
            "Su total es: 36.28\n",
            "Su total es 0.0\n"
          ],
          "name": "stdout"
        }
      ]
    }
  ]
}