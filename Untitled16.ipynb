{
  "nbformat": 4,
  "nbformat_minor": 0,
  "metadata": {
    "colab": {
      "name": "Untitled16.ipynb",
      "provenance": [],
      "authorship_tag": "ABX9TyOWDVCpkAf44vcjTpCzxPTZ",
      "include_colab_link": true
    },
    "kernelspec": {
      "name": "python3",
      "display_name": "Python 3"
    },
    "language_info": {
      "name": "python"
    }
  },
  "cells": [
    {
      "cell_type": "markdown",
      "metadata": {
        "id": "view-in-github",
        "colab_type": "text"
      },
      "source": [
        "<a href=\"https://colab.research.google.com/github/LAUROJAS3/Tarea-clases/blob/main/Untitled16.ipynb\" target=\"_parent\"><img src=\"https://colab.research.google.com/assets/colab-badge.svg\" alt=\"Open In Colab\"/></a>"
      ]
    },
    {
      "cell_type": "code",
      "metadata": {
        "colab": {
          "base_uri": "https://localhost:8080/"
        },
        "id": "4H4PeKe9bWvN",
        "outputId": "86aef82d-6b60-4cab-c418-d3c1a4661865"
      },
      "source": [
        "#Creamos una clase\n",
        "class Gasolinera:\n",
        "\n",
        "#Creamos y llamamos a los metodos\n",
        "    def __init__(self, costo1=16.26, costo2=18.14, costo3= 17.00):\n",
        "        self.costo1=costo1\n",
        "        self.costo2=costo2\n",
        "        self.costo3=costo3\n",
        "        print(\"Gasolineria Pemex\")\n",
        "        print(\"Bienvenido, eliga una de las siguientes opciones:\")\n",
        "\n",
        "#El metodo menu muestra una serie de opciones y solicita al usuario elegir una de ellas\n",
        "    def menu(self):\n",
        "        opcion=0\n",
        "        while opcion!=4:    \n",
        "            print(\"1.Magna\")\n",
        "            print(\"2.Premium\")\n",
        "            print(\"3.Diesel\")\n",
        "            print(\"4.Salir\")\n",
        "            opcion = int(input(\"Ingrese su opcion: \"))\n",
        "#Utilizamos una forma simplificada de if anidados con la sentencia elif\n",
        "            if opcion==1:\n",
        "              self.magna1()\n",
        "              self.magna()\n",
        "            elif opcion==2:\n",
        "              self.premium1()\n",
        "              self.premium()\n",
        "            elif opcion==3:\n",
        "              self.diesel1()\n",
        "              self.diesel()\n",
        "\n",
        "#El metodo que calcula el costo, define a la variable local 'magna'\n",
        "    def magna1(self):\n",
        "        self.tipo=input(\"Digite el nombre de la gasolina: \")\n",
        "        self.l1=int(input(\"1.Magna cantidad de litros:\"))\n",
        "        self.magna()\n",
        "    def magna(self):\n",
        "        magna=self.l1*self.costo1\n",
        "        print(\"Su total es:\",magna,\".Vuelva pronto\") \n",
        "\n",
        "#El metodo que calcula el costo, define a la variable local 'premium'    \n",
        "    def premium1(self):\n",
        "        self.tipo=input(\"Digite el nombre de la gasolina: \")\n",
        "        self.l2=int(input(\"2.Premium cantidad de litros: \"))\n",
        "        self.premium() \n",
        "    def premium(self):\n",
        "        premium=self.l2*self.costo2\n",
        "        print(\"Su total es:\",premium,\".Vuelva pronto\")\n",
        "\n",
        "#El metodo que calcula el costo, define a la variable local 'diesel'\n",
        "    def diesel1(self):\n",
        "        self.tipo=input(\"Digite el nombre de la gasolina: \")\n",
        "        self.l3=int(input(\"3.Diesel cantidad de litros: \"))\n",
        "        self.diesel()\n",
        "    def diesel(self):\n",
        "        diesel=self.l3*self.costo3\n",
        "        print(\"Su total es\",diesel,\"Vuelva pronto\")\n",
        "        \n",
        "#Del bloque principial creamos un objeto de la clase Gasolinera 'p'\n",
        "p=Gasolinera()\n",
        "p.menu()"
      ],
      "execution_count": 16,
      "outputs": [
        {
          "output_type": "stream",
          "text": [
            "Gasolineria Pemex\n",
            "Bienvenido, eliga una de las siguientes opciones:\n",
            "1.Magna\n",
            "2.Premium\n",
            "3.Diesel\n",
            "4.Salir\n",
            "Ingrese su opcion: 1\n",
            "Digite el nombre de la gasolina: Magna\n",
            "1.Magna cantidad de litros:2\n",
            "Su total es: 32.52 .Vuelva pronto\n",
            "Su total es: 32.52 .Vuelva pronto\n",
            "1.Magna\n",
            "2.Premium\n",
            "3.Diesel\n",
            "4.Salir\n",
            "Ingrese su opcion: 2\n",
            "Digite el nombre de la gasolina: Premium\n",
            "2.Premium cantidad de litros: 3\n",
            "Su total es: 54.42 .Vuelva pronto\n",
            "Su total es: 54.42 .Vuelva pronto\n",
            "1.Magna\n",
            "2.Premium\n",
            "3.Diesel\n",
            "4.Salir\n",
            "Ingrese su opcion: 3\n",
            "Digite el nombre de la gasolina: Diesel\n",
            "3.Diesel cantidad de litros: 4\n",
            "Su total es 68.0 Vuelva pronto\n",
            "Su total es 68.0 Vuelva pronto\n",
            "1.Magna\n",
            "2.Premium\n",
            "3.Diesel\n",
            "4.Salir\n",
            "Ingrese su opcion: 4\n"
          ],
          "name": "stdout"
        }
      ]
    }
  ]
}