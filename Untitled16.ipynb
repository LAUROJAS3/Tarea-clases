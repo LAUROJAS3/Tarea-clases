{
  "nbformat": 4,
  "nbformat_minor": 0,
  "metadata": {
    "colab": {
      "name": "Untitled16.ipynb",
      "provenance": [],
      "authorship_tag": "ABX9TyPzatIJ6WqTEpkpx1Y/IbD/",
      "include_colab_link": true
    },
    "kernelspec": {
      "name": "python3",
      "display_name": "Python 3"
    },
    "language_info": {
      "name": "python"
    }
  },
  "cells": [
    {
      "cell_type": "markdown",
      "metadata": {
        "id": "view-in-github",
        "colab_type": "text"
      },
      "source": [
        "<a href=\"https://colab.research.google.com/github/LAUROJAS3/Tarea-clases/blob/main/Untitled16.ipynb\" target=\"_parent\"><img src=\"https://colab.research.google.com/assets/colab-badge.svg\" alt=\"Open In Colab\"/></a>"
      ]
    },
    {
      "cell_type": "code",
      "metadata": {
        "colab": {
          "base_uri": "https://localhost:8080/",
          "height": 0
        },
        "id": "cZE-GKbcVxOq",
        "outputId": "7c7c61c5-8b0a-406f-cb2f-6e6f8b62c729"
      },
      "source": [
        "class Gasolinera:\n",
        "\n",
        "    def __init__(self, costo1=16.26, costo2=18.14, costo3= 17.00):\n",
        "        self.costo1=costo1\n",
        "        self.costo2=costo2\n",
        "        self.costo3=costo3\n",
        "        self.tipo=input(\"Escribe el tipo de gasolina: \")\n",
        "        self.l1=int(input(\"Ingrese la cantidad de litros:\"))\n",
        "        self.l2=int(input(\"Ingresa la cantidad de litros: \"))\n",
        "        self.l3=int(input(\"Ingresa la cantidad de litros: \"))\n",
        "        self.magna()\n",
        "        self.premium()\n",
        "        self.diesel()\n",
        "\n",
        "    def magna(self):\n",
        "        magna=self.l1*self.costo1\n",
        "        print(\"Su total es:\",magna)\n",
        "\n",
        "    def premium(self):\n",
        "        premium=self.l2*self.costo2\n",
        "        print(\"Su total es:\",premium)\n",
        "\n",
        "    def diesel(self):\n",
        "        diesel=self.l3*self.costo3\n",
        "        print(\"Su total es\",diesel)\n",
        "\n",
        "# bloque principal\n",
        "\n",
        "p=Gasolinera()"
      ],
      "execution_count": 2,
      "outputs": [
        {
          "output_type": "stream",
          "text": [
            "Escribe el tipo de gasolina: Magna\n",
            "Ingrese la cantidad de litros:1\n",
            "Ingresa la cantidad de litros: 2\n",
            "Ingresa la cantidad de litros: 3\n",
            "Su total es: 16.26\n",
            "Su total es: 36.28\n",
            "Su total es 51.0\n"
          ],
          "name": "stdout"
        }
      ]
    }
  ]
}